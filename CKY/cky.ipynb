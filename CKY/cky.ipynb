{
 "cells": [
  {
   "cell_type": "markdown",
   "metadata": {},
   "source": [
    "## CKY法"
   ]
  },
  {
   "cell_type": "code",
   "execution_count": 1,
   "metadata": {},
   "outputs": [],
   "source": [
    "def cky(gram, word, debug=False):\n",
    "    n = len(word)\n",
    "    t = [[[] for _ in range(n)] for _ in range(n)]  # t[i][j]はwordのiからj文字目に対応する非終端記号のリストを表す\n",
    "    for i in range(n):\n",
    "        for rule in gram:\n",
    "            if len(rule) == 2 and rule[1] == word[i]:\n",
    "                t[i][i].append(rule[0])\n",
    "    for l in range(1,n):\n",
    "        for i in range(n-l):\n",
    "            for k in range(i,i+l):\n",
    "                for rule in gram:\n",
    "                    if len(rule) == 3 and rule[1] in t[i][k] and rule[2] in t[k+1][i+l]:\n",
    "                        t[i][i+l].append(rule[0])\n",
    "    if debug:\n",
    "        print(t)\n",
    "    return t[0][n-1]"
   ]
  },
  {
   "cell_type": "markdown",
   "metadata": {},
   "source": [
    "### テスト"
   ]
  },
  {
   "cell_type": "code",
   "execution_count": 2,
   "metadata": {},
   "outputs": [],
   "source": [
    "# Chomsky標準形の文脈自由文法\n",
    "gram = [['S', 'NP', 'VP'],  # S -> NP VP\n",
    "        ['NP', 'D', 'N'],\n",
    "        ['NP', 'this'],\n",
    "        ['VP', 'V', 'NP'],\n",
    "        ['VP', 'V', 'A'],\n",
    "        ['V', 'is'],\n",
    "        ['D', 'a'],\n",
    "        ['D', 'this'],\n",
    "        ['N', 'pen'],\n",
    "        ['A', 'black']]\n",
    "\n",
    "word1 = ['this', 'is', 'a', 'pen']\n",
    "word2 = ['this', 'pen', 'is', 'black']"
   ]
  },
  {
   "cell_type": "code",
   "execution_count": 3,
   "metadata": {},
   "outputs": [
    {
     "name": "stdout",
     "output_type": "stream",
     "text": [
      "[[['NP', 'D'], [], [], ['S']], [[], ['V'], [], ['VP']], [[], [], ['D'], ['NP']], [[], [], [], ['N']]]\n"
     ]
    },
    {
     "data": {
      "text/plain": [
       "['S']"
      ]
     },
     "execution_count": 3,
     "metadata": {},
     "output_type": "execute_result"
    }
   ],
   "source": [
    "cky(gram, word1, debug=True)"
   ]
  },
  {
   "cell_type": "code",
   "execution_count": 4,
   "metadata": {},
   "outputs": [
    {
     "name": "stdout",
     "output_type": "stream",
     "text": [
      "[[['NP', 'D'], ['NP'], [], ['S']], [[], ['N'], [], []], [[], [], ['V'], ['VP']], [[], [], [], ['A']]]\n"
     ]
    },
    {
     "data": {
      "text/plain": [
       "['S']"
      ]
     },
     "execution_count": 4,
     "metadata": {},
     "output_type": "execute_result"
    }
   ],
   "source": [
    "cky(gram, word2, debug=True)"
   ]
  }
 ],
 "metadata": {
  "kernelspec": {
   "display_name": "Python 3",
   "language": "python",
   "name": "python3"
  },
  "language_info": {
   "codemirror_mode": {
    "name": "ipython",
    "version": 3
   },
   "file_extension": ".py",
   "mimetype": "text/x-python",
   "name": "python",
   "nbconvert_exporter": "python",
   "pygments_lexer": "ipython3",
   "version": "3.8.10"
  }
 },
 "nbformat": 4,
 "nbformat_minor": 4
}
